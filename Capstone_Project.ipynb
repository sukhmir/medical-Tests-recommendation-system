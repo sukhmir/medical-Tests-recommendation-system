{
  "nbformat": 4,
  "nbformat_minor": 0,
  "metadata": {
    "colab": {
      "provenance": [],
      "gpuType": "T4",
      "authorship_tag": "ABX9TyMDKnkA9/G4xUW0XytVn2P2",
      "include_colab_link": true
    },
    "kernelspec": {
      "name": "python3",
      "display_name": "Python 3"
    },
    "language_info": {
      "name": "python"
    },
    "accelerator": "GPU"
  },
  "cells": [
    {
      "cell_type": "markdown",
      "metadata": {
        "id": "view-in-github",
        "colab_type": "text"
      },
      "source": [
        "<a href=\"https://colab.research.google.com/github/sukhmir/medical-Tests-recommendation-system/blob/main/Capstone_Project.ipynb\" target=\"_parent\"><img src=\"https://colab.research.google.com/assets/colab-badge.svg\" alt=\"Open In Colab\"/></a>"
      ]
    },
    {
      "cell_type": "code",
      "execution_count": null,
      "metadata": {
        "id": "x6odzxbK-UEi"
      },
      "outputs": [],
      "source": []
    },
    {
      "cell_type": "markdown",
      "source": [
        "#-: Capstone project :-\n",
        "##Title:-\n",
        " Medical Tests recommendation system using patient symptoms\n",
        "##Chatbot name:-\n",
        "\"GB-MediBot\"\n",
        "\n",
        "\n"
      ],
      "metadata": {
        "id": "BbidI-fz-Vbz"
      }
    },
    {
      "cell_type": "code",
      "source": [
        "from google.colab import drive\n",
        "drive.mount('/content/drive')"
      ],
      "metadata": {
        "colab": {
          "base_uri": "https://localhost:8080/"
        },
        "id": "xVrJJXjnAEXY",
        "outputId": "3ceea27a-4439-4981-a0f2-161edece4f0c"
      },
      "execution_count": 1,
      "outputs": [
        {
          "output_type": "stream",
          "name": "stdout",
          "text": [
            "Mounted at /content/drive\n"
          ]
        }
      ]
    },
    {
      "cell_type": "markdown",
      "source": [
        "#preprocessing\n",
        "\n",
        "1.   load data\n",
        "1.   tokenization\n",
        "2.   stop words removel\n",
        "3.   stemming\n",
        "\n"
      ],
      "metadata": {
        "id": "OBrKqIGbBNNk"
      }
    },
    {
      "cell_type": "code",
      "source": [
        "import pandas as pd\n",
        "data=pd.read_csv(r\"/content/drive/MyDrive/capstone_data/symptoms based medical test recommendations.csv\")"
      ],
      "metadata": {
        "id": "b3H7fSkTBvah"
      },
      "execution_count": 2,
      "outputs": []
    },
    {
      "cell_type": "code",
      "source": [
        "data"
      ],
      "metadata": {
        "colab": {
          "base_uri": "https://localhost:8080/",
          "height": 615
        },
        "id": "N6FMhRCWCLyd",
        "outputId": "6379a843-e01a-4cbe-fc4c-13497b1db052"
      },
      "execution_count": 3,
      "outputs": [
        {
          "output_type": "execute_result",
          "data": {
            "text/plain": [
              "                                              Questions  \\\n",
              "0     I have a fever, cough, body aches, headache, a...   \n",
              "1     My symptoms include a sore throat, runny nose,...   \n",
              "2     I'm experiencing chest congestion, shortness o...   \n",
              "3     I have a high fever, nausea, and vomiting. Whi...   \n",
              "4     My symptoms involve a persistent cough, fatigu...   \n",
              "...                                                 ...   \n",
              "1493  Is it common for salt cravings and nausea to b...   \n",
              "1494  I have salt and water imbalance and fatigue. W...   \n",
              "1495  Could weight loss and joint pain be linked to ...   \n",
              "1496  I'm struggling with loss of appetite and darke...   \n",
              "1497  Is it common for hyperpigmentation and muscle ...   \n",
              "\n",
              "                                          medical tests  predicted disease  \n",
              "0     Complete Blood Count (CBC),C-Reactive Protein ...    Influenza (Flu)  \n",
              "1     Complete Blood Count (CBC),C-Reactive Protein ...    Influenza (Flu)  \n",
              "2     Complete Blood Count (CBC),C-Reactive Protein ...    Influenza (Flu)  \n",
              "3     Complete Blood Count (CBC),C-Reactive Protein ...    Influenza (Flu)  \n",
              "4     Complete Blood Count (CBC),C-Reactive Protein ...    Influenza (Flu)  \n",
              "...                                                 ...                ...  \n",
              "1493  Cortisol Levels,Adrenocorticotropic Hormone (A...  Addison's Disease  \n",
              "1494  Cortisol Levels,Adrenocorticotropic Hormone (A...  Addison's Disease  \n",
              "1495  Cortisol Levels,Adrenocorticotropic Hormone (A...  Addison's Disease  \n",
              "1496  Cortisol Levels,Adrenocorticotropic Hormone (A...  Addison's Disease  \n",
              "1497  Cortisol Levels,Adrenocorticotropic Hormone (A...  Addison's Disease  \n",
              "\n",
              "[1498 rows x 3 columns]"
            ],
            "text/html": [
              "\n",
              "  <div id=\"df-29327683-9474-4502-b213-c2f1fdfcc1cd\" class=\"colab-df-container\">\n",
              "    <div>\n",
              "<style scoped>\n",
              "    .dataframe tbody tr th:only-of-type {\n",
              "        vertical-align: middle;\n",
              "    }\n",
              "\n",
              "    .dataframe tbody tr th {\n",
              "        vertical-align: top;\n",
              "    }\n",
              "\n",
              "    .dataframe thead th {\n",
              "        text-align: right;\n",
              "    }\n",
              "</style>\n",
              "<table border=\"1\" class=\"dataframe\">\n",
              "  <thead>\n",
              "    <tr style=\"text-align: right;\">\n",
              "      <th></th>\n",
              "      <th>Questions</th>\n",
              "      <th>medical tests</th>\n",
              "      <th>predicted disease</th>\n",
              "    </tr>\n",
              "  </thead>\n",
              "  <tbody>\n",
              "    <tr>\n",
              "      <th>0</th>\n",
              "      <td>I have a fever, cough, body aches, headache, a...</td>\n",
              "      <td>Complete Blood Count (CBC),C-Reactive Protein ...</td>\n",
              "      <td>Influenza (Flu)</td>\n",
              "    </tr>\n",
              "    <tr>\n",
              "      <th>1</th>\n",
              "      <td>My symptoms include a sore throat, runny nose,...</td>\n",
              "      <td>Complete Blood Count (CBC),C-Reactive Protein ...</td>\n",
              "      <td>Influenza (Flu)</td>\n",
              "    </tr>\n",
              "    <tr>\n",
              "      <th>2</th>\n",
              "      <td>I'm experiencing chest congestion, shortness o...</td>\n",
              "      <td>Complete Blood Count (CBC),C-Reactive Protein ...</td>\n",
              "      <td>Influenza (Flu)</td>\n",
              "    </tr>\n",
              "    <tr>\n",
              "      <th>3</th>\n",
              "      <td>I have a high fever, nausea, and vomiting. Whi...</td>\n",
              "      <td>Complete Blood Count (CBC),C-Reactive Protein ...</td>\n",
              "      <td>Influenza (Flu)</td>\n",
              "    </tr>\n",
              "    <tr>\n",
              "      <th>4</th>\n",
              "      <td>My symptoms involve a persistent cough, fatigu...</td>\n",
              "      <td>Complete Blood Count (CBC),C-Reactive Protein ...</td>\n",
              "      <td>Influenza (Flu)</td>\n",
              "    </tr>\n",
              "    <tr>\n",
              "      <th>...</th>\n",
              "      <td>...</td>\n",
              "      <td>...</td>\n",
              "      <td>...</td>\n",
              "    </tr>\n",
              "    <tr>\n",
              "      <th>1493</th>\n",
              "      <td>Is it common for salt cravings and nausea to b...</td>\n",
              "      <td>Cortisol Levels,Adrenocorticotropic Hormone (A...</td>\n",
              "      <td>Addison's Disease</td>\n",
              "    </tr>\n",
              "    <tr>\n",
              "      <th>1494</th>\n",
              "      <td>I have salt and water imbalance and fatigue. W...</td>\n",
              "      <td>Cortisol Levels,Adrenocorticotropic Hormone (A...</td>\n",
              "      <td>Addison's Disease</td>\n",
              "    </tr>\n",
              "    <tr>\n",
              "      <th>1495</th>\n",
              "      <td>Could weight loss and joint pain be linked to ...</td>\n",
              "      <td>Cortisol Levels,Adrenocorticotropic Hormone (A...</td>\n",
              "      <td>Addison's Disease</td>\n",
              "    </tr>\n",
              "    <tr>\n",
              "      <th>1496</th>\n",
              "      <td>I'm struggling with loss of appetite and darke...</td>\n",
              "      <td>Cortisol Levels,Adrenocorticotropic Hormone (A...</td>\n",
              "      <td>Addison's Disease</td>\n",
              "    </tr>\n",
              "    <tr>\n",
              "      <th>1497</th>\n",
              "      <td>Is it common for hyperpigmentation and muscle ...</td>\n",
              "      <td>Cortisol Levels,Adrenocorticotropic Hormone (A...</td>\n",
              "      <td>Addison's Disease</td>\n",
              "    </tr>\n",
              "  </tbody>\n",
              "</table>\n",
              "<p>1498 rows × 3 columns</p>\n",
              "</div>\n",
              "    <div class=\"colab-df-buttons\">\n",
              "\n",
              "  <div class=\"colab-df-container\">\n",
              "    <button class=\"colab-df-convert\" onclick=\"convertToInteractive('df-29327683-9474-4502-b213-c2f1fdfcc1cd')\"\n",
              "            title=\"Convert this dataframe to an interactive table.\"\n",
              "            style=\"display:none;\">\n",
              "\n",
              "  <svg xmlns=\"http://www.w3.org/2000/svg\" height=\"24px\" viewBox=\"0 -960 960 960\">\n",
              "    <path d=\"M120-120v-720h720v720H120Zm60-500h600v-160H180v160Zm220 220h160v-160H400v160Zm0 220h160v-160H400v160ZM180-400h160v-160H180v160Zm440 0h160v-160H620v160ZM180-180h160v-160H180v160Zm440 0h160v-160H620v160Z\"/>\n",
              "  </svg>\n",
              "    </button>\n",
              "\n",
              "  <style>\n",
              "    .colab-df-container {\n",
              "      display:flex;\n",
              "      gap: 12px;\n",
              "    }\n",
              "\n",
              "    .colab-df-convert {\n",
              "      background-color: #E8F0FE;\n",
              "      border: none;\n",
              "      border-radius: 50%;\n",
              "      cursor: pointer;\n",
              "      display: none;\n",
              "      fill: #1967D2;\n",
              "      height: 32px;\n",
              "      padding: 0 0 0 0;\n",
              "      width: 32px;\n",
              "    }\n",
              "\n",
              "    .colab-df-convert:hover {\n",
              "      background-color: #E2EBFA;\n",
              "      box-shadow: 0px 1px 2px rgba(60, 64, 67, 0.3), 0px 1px 3px 1px rgba(60, 64, 67, 0.15);\n",
              "      fill: #174EA6;\n",
              "    }\n",
              "\n",
              "    .colab-df-buttons div {\n",
              "      margin-bottom: 4px;\n",
              "    }\n",
              "\n",
              "    [theme=dark] .colab-df-convert {\n",
              "      background-color: #3B4455;\n",
              "      fill: #D2E3FC;\n",
              "    }\n",
              "\n",
              "    [theme=dark] .colab-df-convert:hover {\n",
              "      background-color: #434B5C;\n",
              "      box-shadow: 0px 1px 3px 1px rgba(0, 0, 0, 0.15);\n",
              "      filter: drop-shadow(0px 1px 2px rgba(0, 0, 0, 0.3));\n",
              "      fill: #FFFFFF;\n",
              "    }\n",
              "  </style>\n",
              "\n",
              "    <script>\n",
              "      const buttonEl =\n",
              "        document.querySelector('#df-29327683-9474-4502-b213-c2f1fdfcc1cd button.colab-df-convert');\n",
              "      buttonEl.style.display =\n",
              "        google.colab.kernel.accessAllowed ? 'block' : 'none';\n",
              "\n",
              "      async function convertToInteractive(key) {\n",
              "        const element = document.querySelector('#df-29327683-9474-4502-b213-c2f1fdfcc1cd');\n",
              "        const dataTable =\n",
              "          await google.colab.kernel.invokeFunction('convertToInteractive',\n",
              "                                                    [key], {});\n",
              "        if (!dataTable) return;\n",
              "\n",
              "        const docLinkHtml = 'Like what you see? Visit the ' +\n",
              "          '<a target=\"_blank\" href=https://colab.research.google.com/notebooks/data_table.ipynb>data table notebook</a>'\n",
              "          + ' to learn more about interactive tables.';\n",
              "        element.innerHTML = '';\n",
              "        dataTable['output_type'] = 'display_data';\n",
              "        await google.colab.output.renderOutput(dataTable, element);\n",
              "        const docLink = document.createElement('div');\n",
              "        docLink.innerHTML = docLinkHtml;\n",
              "        element.appendChild(docLink);\n",
              "      }\n",
              "    </script>\n",
              "  </div>\n",
              "\n",
              "\n",
              "<div id=\"df-09d961ff-4954-406f-bcdc-8bd2b4db5764\">\n",
              "  <button class=\"colab-df-quickchart\" onclick=\"quickchart('df-09d961ff-4954-406f-bcdc-8bd2b4db5764')\"\n",
              "            title=\"Suggest charts.\"\n",
              "            style=\"display:none;\">\n",
              "\n",
              "<svg xmlns=\"http://www.w3.org/2000/svg\" height=\"24px\"viewBox=\"0 0 24 24\"\n",
              "     width=\"24px\">\n",
              "    <g>\n",
              "        <path d=\"M19 3H5c-1.1 0-2 .9-2 2v14c0 1.1.9 2 2 2h14c1.1 0 2-.9 2-2V5c0-1.1-.9-2-2-2zM9 17H7v-7h2v7zm4 0h-2V7h2v10zm4 0h-2v-4h2v4z\"/>\n",
              "    </g>\n",
              "</svg>\n",
              "  </button>\n",
              "\n",
              "<style>\n",
              "  .colab-df-quickchart {\n",
              "      --bg-color: #E8F0FE;\n",
              "      --fill-color: #1967D2;\n",
              "      --hover-bg-color: #E2EBFA;\n",
              "      --hover-fill-color: #174EA6;\n",
              "      --disabled-fill-color: #AAA;\n",
              "      --disabled-bg-color: #DDD;\n",
              "  }\n",
              "\n",
              "  [theme=dark] .colab-df-quickchart {\n",
              "      --bg-color: #3B4455;\n",
              "      --fill-color: #D2E3FC;\n",
              "      --hover-bg-color: #434B5C;\n",
              "      --hover-fill-color: #FFFFFF;\n",
              "      --disabled-bg-color: #3B4455;\n",
              "      --disabled-fill-color: #666;\n",
              "  }\n",
              "\n",
              "  .colab-df-quickchart {\n",
              "    background-color: var(--bg-color);\n",
              "    border: none;\n",
              "    border-radius: 50%;\n",
              "    cursor: pointer;\n",
              "    display: none;\n",
              "    fill: var(--fill-color);\n",
              "    height: 32px;\n",
              "    padding: 0;\n",
              "    width: 32px;\n",
              "  }\n",
              "\n",
              "  .colab-df-quickchart:hover {\n",
              "    background-color: var(--hover-bg-color);\n",
              "    box-shadow: 0 1px 2px rgba(60, 64, 67, 0.3), 0 1px 3px 1px rgba(60, 64, 67, 0.15);\n",
              "    fill: var(--button-hover-fill-color);\n",
              "  }\n",
              "\n",
              "  .colab-df-quickchart-complete:disabled,\n",
              "  .colab-df-quickchart-complete:disabled:hover {\n",
              "    background-color: var(--disabled-bg-color);\n",
              "    fill: var(--disabled-fill-color);\n",
              "    box-shadow: none;\n",
              "  }\n",
              "\n",
              "  .colab-df-spinner {\n",
              "    border: 2px solid var(--fill-color);\n",
              "    border-color: transparent;\n",
              "    border-bottom-color: var(--fill-color);\n",
              "    animation:\n",
              "      spin 1s steps(1) infinite;\n",
              "  }\n",
              "\n",
              "  @keyframes spin {\n",
              "    0% {\n",
              "      border-color: transparent;\n",
              "      border-bottom-color: var(--fill-color);\n",
              "      border-left-color: var(--fill-color);\n",
              "    }\n",
              "    20% {\n",
              "      border-color: transparent;\n",
              "      border-left-color: var(--fill-color);\n",
              "      border-top-color: var(--fill-color);\n",
              "    }\n",
              "    30% {\n",
              "      border-color: transparent;\n",
              "      border-left-color: var(--fill-color);\n",
              "      border-top-color: var(--fill-color);\n",
              "      border-right-color: var(--fill-color);\n",
              "    }\n",
              "    40% {\n",
              "      border-color: transparent;\n",
              "      border-right-color: var(--fill-color);\n",
              "      border-top-color: var(--fill-color);\n",
              "    }\n",
              "    60% {\n",
              "      border-color: transparent;\n",
              "      border-right-color: var(--fill-color);\n",
              "    }\n",
              "    80% {\n",
              "      border-color: transparent;\n",
              "      border-right-color: var(--fill-color);\n",
              "      border-bottom-color: var(--fill-color);\n",
              "    }\n",
              "    90% {\n",
              "      border-color: transparent;\n",
              "      border-bottom-color: var(--fill-color);\n",
              "    }\n",
              "  }\n",
              "</style>\n",
              "\n",
              "  <script>\n",
              "    async function quickchart(key) {\n",
              "      const quickchartButtonEl =\n",
              "        document.querySelector('#' + key + ' button');\n",
              "      quickchartButtonEl.disabled = true;  // To prevent multiple clicks.\n",
              "      quickchartButtonEl.classList.add('colab-df-spinner');\n",
              "      try {\n",
              "        const charts = await google.colab.kernel.invokeFunction(\n",
              "            'suggestCharts', [key], {});\n",
              "      } catch (error) {\n",
              "        console.error('Error during call to suggestCharts:', error);\n",
              "      }\n",
              "      quickchartButtonEl.classList.remove('colab-df-spinner');\n",
              "      quickchartButtonEl.classList.add('colab-df-quickchart-complete');\n",
              "    }\n",
              "    (() => {\n",
              "      let quickchartButtonEl =\n",
              "        document.querySelector('#df-09d961ff-4954-406f-bcdc-8bd2b4db5764 button');\n",
              "      quickchartButtonEl.style.display =\n",
              "        google.colab.kernel.accessAllowed ? 'block' : 'none';\n",
              "    })();\n",
              "  </script>\n",
              "</div>\n",
              "    </div>\n",
              "  </div>\n"
            ]
          },
          "metadata": {},
          "execution_count": 3
        }
      ]
    },
    {
      "cell_type": "code",
      "source": [
        "data['predicted disease']"
      ],
      "metadata": {
        "colab": {
          "base_uri": "https://localhost:8080/"
        },
        "id": "MY5issEYkR6o",
        "outputId": "8ffcb791-8a0b-4ff6-b7b8-5c1717e928b3"
      },
      "execution_count": 4,
      "outputs": [
        {
          "output_type": "execute_result",
          "data": {
            "text/plain": [
              "0         Influenza (Flu)\n",
              "1         Influenza (Flu)\n",
              "2         Influenza (Flu)\n",
              "3         Influenza (Flu)\n",
              "4         Influenza (Flu)\n",
              "              ...        \n",
              "1493    Addison's Disease\n",
              "1494    Addison's Disease\n",
              "1495    Addison's Disease\n",
              "1496    Addison's Disease\n",
              "1497    Addison's Disease\n",
              "Name: predicted disease, Length: 1498, dtype: object"
            ]
          },
          "metadata": {},
          "execution_count": 4
        }
      ]
    },
    {
      "cell_type": "code",
      "source": [
        "disease_classes=data['predicted disease'].unique()"
      ],
      "metadata": {
        "id": "UdJ-b1AWC5aq"
      },
      "execution_count": 5,
      "outputs": []
    },
    {
      "cell_type": "code",
      "source": [
        "disease_classes"
      ],
      "metadata": {
        "colab": {
          "base_uri": "https://localhost:8080/"
        },
        "id": "UJKA4w30z0uO",
        "outputId": "dac5551f-a75c-4aba-97fd-019744bb20b9"
      },
      "execution_count": 7,
      "outputs": [
        {
          "output_type": "execute_result",
          "data": {
            "text/plain": [
              "array(['Influenza (Flu)', 'Tuberculosis (TB)', 'HIV/AIDS', 'Malaria',\n",
              "       'COVID-19.', 'Hepatitis', 'Cholera', 'Ebola Virus Disease',\n",
              "       'Dengue Fever', 'Coronary Artery Disease (CAD)',\n",
              "       'Hypertension (High Blood Pressure)',\n",
              "       'Heart Attack (Myocardial Infarction)', 'Stroke',\n",
              "       'Arrhythmias (Irregular Heartbeat)', 'Atherosclerosis',\n",
              "       'Breast Cancer', 'Lung Cancer', 'Prostate Cancer',\n",
              "       'Colorectal Cancer', 'Skin Cancer (Melanoma)', 'Brain Cancer',\n",
              "       'Asthma', 'Leukemia', 'Chronic Obstructive ',\n",
              "       'Pulmonary Disease (COPD)', 'Interstitial Lung Disease',\n",
              "       'Diabetes', 'Hypothyroidism (Underactive Thyroid)',\n",
              "       'Hyperthyroidism (Overactive Thyroid)', \"Addison's Disease\"],\n",
              "      dtype=object)"
            ]
          },
          "metadata": {},
          "execution_count": 7
        }
      ]
    },
    {
      "cell_type": "code",
      "source": [
        "import numpy as np\n",
        "unique_values, counts = np.unique(disease_classes, return_counts=True)"
      ],
      "metadata": {
        "id": "P01VeKU2qOrK"
      },
      "execution_count": 8,
      "outputs": []
    },
    {
      "cell_type": "code",
      "source": [
        "print(\"Number of classes: \",sum(counts))"
      ],
      "metadata": {
        "colab": {
          "base_uri": "https://localhost:8080/"
        },
        "id": "emcpHMnIqXRH",
        "outputId": "d4ab617e-ed3c-4369-8ac7-c1f95910f6e5"
      },
      "execution_count": 9,
      "outputs": [
        {
          "output_type": "stream",
          "name": "stdout",
          "text": [
            "Number of classes:  30\n"
          ]
        }
      ]
    },
    {
      "cell_type": "markdown",
      "source": [
        "##Tokenization"
      ],
      "metadata": {
        "id": "37EDvVmUiL6W"
      }
    },
    {
      "cell_type": "code",
      "source": [],
      "metadata": {
        "id": "AFuC3zcOiRuI"
      },
      "execution_count": null,
      "outputs": []
    }
  ]
}